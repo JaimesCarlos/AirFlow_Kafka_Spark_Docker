{
  "nbformat": 4,
  "nbformat_minor": 0,
  "metadata": {
    "colab": {
      "provenance": [],
      "authorship_tag": "ABX9TyO0ZrbR0FHxQBNwimfPrKO2",
      "include_colab_link": true
    },
    "kernelspec": {
      "name": "python3",
      "display_name": "Python 3"
    },
    "language_info": {
      "name": "python"
    }
  },
  "cells": [
    {
      "cell_type": "markdown",
      "metadata": {
        "id": "view-in-github",
        "colab_type": "text"
      },
      "source": [
        "<a href=\"https://colab.research.google.com/github/JaimesCarlos/AirFlow_Kafka_Spark_Docker/blob/master/vuelos.ipynb\" target=\"_parent\"><img src=\"https://colab.research.google.com/assets/colab-badge.svg\" alt=\"Open In Colab\"/></a>"
      ]
    },
    {
      "cell_type": "markdown",
      "source": [
        "Conectarnos a drive ✅"
      ],
      "metadata": {
        "id": "KkMXUjvIKnwY"
      }
    },
    {
      "cell_type": "code",
      "execution_count": 1,
      "metadata": {
        "colab": {
          "base_uri": "https://localhost:8080/"
        },
        "id": "Io5TDuasJk8D",
        "outputId": "8654731f-d72f-48d1-9f6f-9583e011c881"
      },
      "outputs": [
        {
          "output_type": "stream",
          "name": "stdout",
          "text": [
            "Mounted at /content/drive\n"
          ]
        }
      ],
      "source": [
        "from google.colab import drive\n",
        "drive.mount('/content/drive', force_remount=True) "
      ]
    },
    {
      "cell_type": "code",
      "source": [
        "import pandas as pd"
      ],
      "metadata": {
        "id": "2i6uzIQEK2RW"
      },
      "execution_count": 2,
      "outputs": []
    },
    {
      "cell_type": "code",
      "source": [
        "wather = pd.read_csv('/content/drive/MyDrive/Henrry Vuelos/WeatherNormalizado.csv')\n",
        "airlines = pd.read_csv('/content/drive/MyDrive/Henrry Vuelos/airlines.csv')\n",
        "airports = pd.read_csv('/content/drive/MyDrive/Henrry Vuelos/airports.csv')"
      ],
      "metadata": {
        "id": "b48W5RL_KgIT"
      },
      "execution_count": 4,
      "outputs": []
    },
    {
      "cell_type": "code",
      "source": [
        "columns = ['YEAR', 'MONTH', 'DAY_OF_MONTH', 'DAY_OF_WEEK', 'OP_UNIQUE_CARRIER', 'ORIGIN_CITY_NAME',\n",
        "'ORIGIN_STATE_ABR', 'DEST_CITY_NAME', 'DEST_STATE_ABR', 'CRS_DEP_TIME', 'DEP_DELAY_NEW',\n",
        "'CRS_ARR_TIME', 'ARR_DELAY_NEW', 'CANCELLED', 'CANCELLATION_CODE', 'AIR_TIME', 'DISTANCE']\n",
        "vuelos_2015 = pd.read_csv('/content/drive/MyDrive/Henrry Vuelos/flights_2015.csv',names=columns)"
      ],
      "metadata": {
        "id": "LzSLXoutkhvF"
      },
      "execution_count": 3,
      "outputs": []
    },
    {
      "cell_type": "code",
      "source": [
        "vuelos_2015['MONTH'].count()"
      ],
      "metadata": {
        "colab": {
          "base_uri": "https://localhost:8080/"
        },
        "id": "vmOlYK3rlM2h",
        "outputId": "d3c7a9d6-49b1-4235-fce4-350861edcebf"
      },
      "execution_count": 10,
      "outputs": [
        {
          "output_type": "execute_result",
          "data": {
            "text/plain": [
              "5819079"
            ]
          },
          "metadata": {},
          "execution_count": 10
        }
      ]
    },
    {
      "cell_type": "code",
      "source": [
        "#vuelos_2015 = pd.read_csv('/content/drive/MyDrive/Henrry Vuelos/flights_2015.csv')\n",
        "vuelos_2016 = pd.read_csv('/content/drive/MyDrive/Henrry Vuelos/flights_2016.csv')\n",
        "#vuelos_2017 = pd.read_csv('/content/drive/MyDrive/Henrry Vuelos/flights_2017.csv')\n",
        "#vuelos_2018 = pd.read_csv('/content/drive/MyDrive/Henrry Vuelos/flights_2018.csv')\n",
        "#vuelos_2019 = pd.read_csv('/content/drive/MyDrive/Henrry Vuelos/flights_2019.csv')\n",
        "#vuelos_2020 = pd.read_csv('/content/drive/MyDrive/Henrry Vuelos/flights_2020.csv')"
      ],
      "metadata": {
        "id": "7icCK5EGi6Wa"
      },
      "execution_count": 4,
      "outputs": []
    },
    {
      "cell_type": "code",
      "source": [
        "vuelos_2016"
      ],
      "metadata": {
        "colab": {
          "base_uri": "https://localhost:8080/",
          "height": 424
        },
        "id": "mmRe91Z6LUZM",
        "outputId": "937a8caa-e043-4364-ff67-2770341fd6d4"
      },
      "execution_count": 17,
      "outputs": [
        {
          "output_type": "execute_result",
          "data": {
            "text/plain": [
              "         2016   1   5  2  AA  Miami  FL  Washington  VA  14:15:00    21  \\\n",
              "0        2016   1   6  3  AA  Miami  FL  Washington  VA  14:15:00   0.0   \n",
              "1        2016   1   7  4  AA  Miami  FL  Washington  VA  14:15:00  26.0   \n",
              "2        2016   1   8  5  AA  Miami  FL  Washington  VA  14:15:00  31.0   \n",
              "3        2016   1   9  6  AA  Miami  FL  Washington  VA  14:15:00   0.0   \n",
              "4        2016   1  10  7  AA  Miami  FL  Washington  VA  14:15:00  36.0   \n",
              "...       ...  ..  .. ..  ..    ...  ..         ...  ..       ...   ...   \n",
              "5617652  2016  12  31  6  WN   Reno  NV     Oakland  CA  12:00:00  36.0   \n",
              "5617653  2016  12  31  6  WN   Reno  NV     Oakland  CA  07:05:00   0.0   \n",
              "5617654  2016  12  31  6  WN   Reno  NV     Phoenix  AZ  10:00:00   0.0   \n",
              "5617655  2016  12  31  6  WN   Reno  NV   San Diego  CA  09:10:00   0.0   \n",
              "5617656  2016  12  31  6  WN   Reno  NV   San Diego  CA  14:15:00   4.0   \n",
              "\n",
              "         16:45:00    15  0 NULL    126  919  \n",
              "0        16:45:00   0.0  0  NaN  128.0  919  \n",
              "1        16:45:00  24.0  0  NaN  123.0  919  \n",
              "2        16:45:00  52.0  0  NaN  116.0  919  \n",
              "3        16:45:00   7.0  0  NaN  121.0  919  \n",
              "4        16:45:00  36.0  0  NaN  112.0  919  \n",
              "...           ...   ... ..  ...    ...  ...  \n",
              "5617652  13:05:00  19.0  0  NaN   33.0  181  \n",
              "5617653  08:20:00   0.0  0  NaN   38.0  181  \n",
              "5617654  12:40:00   0.0  0  NaN   88.0  601  \n",
              "5617655  10:45:00   0.0  0  NaN   71.0  488  \n",
              "5617656  15:40:00   2.0  0  NaN   71.0  488  \n",
              "\n",
              "[5617657 rows x 17 columns]"
            ],
            "text/html": [
              "\n",
              "  <div id=\"df-2cd7dc71-1ca4-4683-a2d8-841ec5303206\">\n",
              "    <div class=\"colab-df-container\">\n",
              "      <div>\n",
              "<style scoped>\n",
              "    .dataframe tbody tr th:only-of-type {\n",
              "        vertical-align: middle;\n",
              "    }\n",
              "\n",
              "    .dataframe tbody tr th {\n",
              "        vertical-align: top;\n",
              "    }\n",
              "\n",
              "    .dataframe thead th {\n",
              "        text-align: right;\n",
              "    }\n",
              "</style>\n",
              "<table border=\"1\" class=\"dataframe\">\n",
              "  <thead>\n",
              "    <tr style=\"text-align: right;\">\n",
              "      <th></th>\n",
              "      <th>2016</th>\n",
              "      <th>1</th>\n",
              "      <th>5</th>\n",
              "      <th>2</th>\n",
              "      <th>AA</th>\n",
              "      <th>Miami</th>\n",
              "      <th>FL</th>\n",
              "      <th>Washington</th>\n",
              "      <th>VA</th>\n",
              "      <th>14:15:00</th>\n",
              "      <th>21</th>\n",
              "      <th>16:45:00</th>\n",
              "      <th>15</th>\n",
              "      <th>0</th>\n",
              "      <th>NULL</th>\n",
              "      <th>126</th>\n",
              "      <th>919</th>\n",
              "    </tr>\n",
              "  </thead>\n",
              "  <tbody>\n",
              "    <tr>\n",
              "      <th>0</th>\n",
              "      <td>2016</td>\n",
              "      <td>1</td>\n",
              "      <td>6</td>\n",
              "      <td>3</td>\n",
              "      <td>AA</td>\n",
              "      <td>Miami</td>\n",
              "      <td>FL</td>\n",
              "      <td>Washington</td>\n",
              "      <td>VA</td>\n",
              "      <td>14:15:00</td>\n",
              "      <td>0.0</td>\n",
              "      <td>16:45:00</td>\n",
              "      <td>0.0</td>\n",
              "      <td>0</td>\n",
              "      <td>NaN</td>\n",
              "      <td>128.0</td>\n",
              "      <td>919</td>\n",
              "    </tr>\n",
              "    <tr>\n",
              "      <th>1</th>\n",
              "      <td>2016</td>\n",
              "      <td>1</td>\n",
              "      <td>7</td>\n",
              "      <td>4</td>\n",
              "      <td>AA</td>\n",
              "      <td>Miami</td>\n",
              "      <td>FL</td>\n",
              "      <td>Washington</td>\n",
              "      <td>VA</td>\n",
              "      <td>14:15:00</td>\n",
              "      <td>26.0</td>\n",
              "      <td>16:45:00</td>\n",
              "      <td>24.0</td>\n",
              "      <td>0</td>\n",
              "      <td>NaN</td>\n",
              "      <td>123.0</td>\n",
              "      <td>919</td>\n",
              "    </tr>\n",
              "    <tr>\n",
              "      <th>2</th>\n",
              "      <td>2016</td>\n",
              "      <td>1</td>\n",
              "      <td>8</td>\n",
              "      <td>5</td>\n",
              "      <td>AA</td>\n",
              "      <td>Miami</td>\n",
              "      <td>FL</td>\n",
              "      <td>Washington</td>\n",
              "      <td>VA</td>\n",
              "      <td>14:15:00</td>\n",
              "      <td>31.0</td>\n",
              "      <td>16:45:00</td>\n",
              "      <td>52.0</td>\n",
              "      <td>0</td>\n",
              "      <td>NaN</td>\n",
              "      <td>116.0</td>\n",
              "      <td>919</td>\n",
              "    </tr>\n",
              "    <tr>\n",
              "      <th>3</th>\n",
              "      <td>2016</td>\n",
              "      <td>1</td>\n",
              "      <td>9</td>\n",
              "      <td>6</td>\n",
              "      <td>AA</td>\n",
              "      <td>Miami</td>\n",
              "      <td>FL</td>\n",
              "      <td>Washington</td>\n",
              "      <td>VA</td>\n",
              "      <td>14:15:00</td>\n",
              "      <td>0.0</td>\n",
              "      <td>16:45:00</td>\n",
              "      <td>7.0</td>\n",
              "      <td>0</td>\n",
              "      <td>NaN</td>\n",
              "      <td>121.0</td>\n",
              "      <td>919</td>\n",
              "    </tr>\n",
              "    <tr>\n",
              "      <th>4</th>\n",
              "      <td>2016</td>\n",
              "      <td>1</td>\n",
              "      <td>10</td>\n",
              "      <td>7</td>\n",
              "      <td>AA</td>\n",
              "      <td>Miami</td>\n",
              "      <td>FL</td>\n",
              "      <td>Washington</td>\n",
              "      <td>VA</td>\n",
              "      <td>14:15:00</td>\n",
              "      <td>36.0</td>\n",
              "      <td>16:45:00</td>\n",
              "      <td>36.0</td>\n",
              "      <td>0</td>\n",
              "      <td>NaN</td>\n",
              "      <td>112.0</td>\n",
              "      <td>919</td>\n",
              "    </tr>\n",
              "    <tr>\n",
              "      <th>...</th>\n",
              "      <td>...</td>\n",
              "      <td>...</td>\n",
              "      <td>...</td>\n",
              "      <td>...</td>\n",
              "      <td>...</td>\n",
              "      <td>...</td>\n",
              "      <td>...</td>\n",
              "      <td>...</td>\n",
              "      <td>...</td>\n",
              "      <td>...</td>\n",
              "      <td>...</td>\n",
              "      <td>...</td>\n",
              "      <td>...</td>\n",
              "      <td>...</td>\n",
              "      <td>...</td>\n",
              "      <td>...</td>\n",
              "      <td>...</td>\n",
              "    </tr>\n",
              "    <tr>\n",
              "      <th>5617652</th>\n",
              "      <td>2016</td>\n",
              "      <td>12</td>\n",
              "      <td>31</td>\n",
              "      <td>6</td>\n",
              "      <td>WN</td>\n",
              "      <td>Reno</td>\n",
              "      <td>NV</td>\n",
              "      <td>Oakland</td>\n",
              "      <td>CA</td>\n",
              "      <td>12:00:00</td>\n",
              "      <td>36.0</td>\n",
              "      <td>13:05:00</td>\n",
              "      <td>19.0</td>\n",
              "      <td>0</td>\n",
              "      <td>NaN</td>\n",
              "      <td>33.0</td>\n",
              "      <td>181</td>\n",
              "    </tr>\n",
              "    <tr>\n",
              "      <th>5617653</th>\n",
              "      <td>2016</td>\n",
              "      <td>12</td>\n",
              "      <td>31</td>\n",
              "      <td>6</td>\n",
              "      <td>WN</td>\n",
              "      <td>Reno</td>\n",
              "      <td>NV</td>\n",
              "      <td>Oakland</td>\n",
              "      <td>CA</td>\n",
              "      <td>07:05:00</td>\n",
              "      <td>0.0</td>\n",
              "      <td>08:20:00</td>\n",
              "      <td>0.0</td>\n",
              "      <td>0</td>\n",
              "      <td>NaN</td>\n",
              "      <td>38.0</td>\n",
              "      <td>181</td>\n",
              "    </tr>\n",
              "    <tr>\n",
              "      <th>5617654</th>\n",
              "      <td>2016</td>\n",
              "      <td>12</td>\n",
              "      <td>31</td>\n",
              "      <td>6</td>\n",
              "      <td>WN</td>\n",
              "      <td>Reno</td>\n",
              "      <td>NV</td>\n",
              "      <td>Phoenix</td>\n",
              "      <td>AZ</td>\n",
              "      <td>10:00:00</td>\n",
              "      <td>0.0</td>\n",
              "      <td>12:40:00</td>\n",
              "      <td>0.0</td>\n",
              "      <td>0</td>\n",
              "      <td>NaN</td>\n",
              "      <td>88.0</td>\n",
              "      <td>601</td>\n",
              "    </tr>\n",
              "    <tr>\n",
              "      <th>5617655</th>\n",
              "      <td>2016</td>\n",
              "      <td>12</td>\n",
              "      <td>31</td>\n",
              "      <td>6</td>\n",
              "      <td>WN</td>\n",
              "      <td>Reno</td>\n",
              "      <td>NV</td>\n",
              "      <td>San Diego</td>\n",
              "      <td>CA</td>\n",
              "      <td>09:10:00</td>\n",
              "      <td>0.0</td>\n",
              "      <td>10:45:00</td>\n",
              "      <td>0.0</td>\n",
              "      <td>0</td>\n",
              "      <td>NaN</td>\n",
              "      <td>71.0</td>\n",
              "      <td>488</td>\n",
              "    </tr>\n",
              "    <tr>\n",
              "      <th>5617656</th>\n",
              "      <td>2016</td>\n",
              "      <td>12</td>\n",
              "      <td>31</td>\n",
              "      <td>6</td>\n",
              "      <td>WN</td>\n",
              "      <td>Reno</td>\n",
              "      <td>NV</td>\n",
              "      <td>San Diego</td>\n",
              "      <td>CA</td>\n",
              "      <td>14:15:00</td>\n",
              "      <td>4.0</td>\n",
              "      <td>15:40:00</td>\n",
              "      <td>2.0</td>\n",
              "      <td>0</td>\n",
              "      <td>NaN</td>\n",
              "      <td>71.0</td>\n",
              "      <td>488</td>\n",
              "    </tr>\n",
              "  </tbody>\n",
              "</table>\n",
              "<p>5617657 rows × 17 columns</p>\n",
              "</div>\n",
              "      <button class=\"colab-df-convert\" onclick=\"convertToInteractive('df-2cd7dc71-1ca4-4683-a2d8-841ec5303206')\"\n",
              "              title=\"Convert this dataframe to an interactive table.\"\n",
              "              style=\"display:none;\">\n",
              "        \n",
              "  <svg xmlns=\"http://www.w3.org/2000/svg\" height=\"24px\"viewBox=\"0 0 24 24\"\n",
              "       width=\"24px\">\n",
              "    <path d=\"M0 0h24v24H0V0z\" fill=\"none\"/>\n",
              "    <path d=\"M18.56 5.44l.94 2.06.94-2.06 2.06-.94-2.06-.94-.94-2.06-.94 2.06-2.06.94zm-11 1L8.5 8.5l.94-2.06 2.06-.94-2.06-.94L8.5 2.5l-.94 2.06-2.06.94zm10 10l.94 2.06.94-2.06 2.06-.94-2.06-.94-.94-2.06-.94 2.06-2.06.94z\"/><path d=\"M17.41 7.96l-1.37-1.37c-.4-.4-.92-.59-1.43-.59-.52 0-1.04.2-1.43.59L10.3 9.45l-7.72 7.72c-.78.78-.78 2.05 0 2.83L4 21.41c.39.39.9.59 1.41.59.51 0 1.02-.2 1.41-.59l7.78-7.78 2.81-2.81c.8-.78.8-2.07 0-2.86zM5.41 20L4 18.59l7.72-7.72 1.47 1.35L5.41 20z\"/>\n",
              "  </svg>\n",
              "      </button>\n",
              "      \n",
              "  <style>\n",
              "    .colab-df-container {\n",
              "      display:flex;\n",
              "      flex-wrap:wrap;\n",
              "      gap: 12px;\n",
              "    }\n",
              "\n",
              "    .colab-df-convert {\n",
              "      background-color: #E8F0FE;\n",
              "      border: none;\n",
              "      border-radius: 50%;\n",
              "      cursor: pointer;\n",
              "      display: none;\n",
              "      fill: #1967D2;\n",
              "      height: 32px;\n",
              "      padding: 0 0 0 0;\n",
              "      width: 32px;\n",
              "    }\n",
              "\n",
              "    .colab-df-convert:hover {\n",
              "      background-color: #E2EBFA;\n",
              "      box-shadow: 0px 1px 2px rgba(60, 64, 67, 0.3), 0px 1px 3px 1px rgba(60, 64, 67, 0.15);\n",
              "      fill: #174EA6;\n",
              "    }\n",
              "\n",
              "    [theme=dark] .colab-df-convert {\n",
              "      background-color: #3B4455;\n",
              "      fill: #D2E3FC;\n",
              "    }\n",
              "\n",
              "    [theme=dark] .colab-df-convert:hover {\n",
              "      background-color: #434B5C;\n",
              "      box-shadow: 0px 1px 3px 1px rgba(0, 0, 0, 0.15);\n",
              "      filter: drop-shadow(0px 1px 2px rgba(0, 0, 0, 0.3));\n",
              "      fill: #FFFFFF;\n",
              "    }\n",
              "  </style>\n",
              "\n",
              "      <script>\n",
              "        const buttonEl =\n",
              "          document.querySelector('#df-2cd7dc71-1ca4-4683-a2d8-841ec5303206 button.colab-df-convert');\n",
              "        buttonEl.style.display =\n",
              "          google.colab.kernel.accessAllowed ? 'block' : 'none';\n",
              "\n",
              "        async function convertToInteractive(key) {\n",
              "          const element = document.querySelector('#df-2cd7dc71-1ca4-4683-a2d8-841ec5303206');\n",
              "          const dataTable =\n",
              "            await google.colab.kernel.invokeFunction('convertToInteractive',\n",
              "                                                     [key], {});\n",
              "          if (!dataTable) return;\n",
              "\n",
              "          const docLinkHtml = 'Like what you see? Visit the ' +\n",
              "            '<a target=\"_blank\" href=https://colab.research.google.com/notebooks/data_table.ipynb>data table notebook</a>'\n",
              "            + ' to learn more about interactive tables.';\n",
              "          element.innerHTML = '';\n",
              "          dataTable['output_type'] = 'display_data';\n",
              "          await google.colab.output.renderOutput(dataTable, element);\n",
              "          const docLink = document.createElement('div');\n",
              "          docLink.innerHTML = docLinkHtml;\n",
              "          element.appendChild(docLink);\n",
              "        }\n",
              "      </script>\n",
              "    </div>\n",
              "  </div>\n",
              "  "
            ]
          },
          "metadata": {},
          "execution_count": 17
        }
      ]
    },
    {
      "cell_type": "code",
      "source": [
        "df = pd.concat([vuelos_2015,vuelos_2016])"
      ],
      "metadata": {
        "id": "vN5qyyOZjYJI"
      },
      "execution_count": 5,
      "outputs": []
    },
    {
      "cell_type": "code",
      "source": [
        "df['MONTH'].count()"
      ],
      "metadata": {
        "colab": {
          "base_uri": "https://localhost:8080/"
        },
        "id": "ysHjOkDwnnC7",
        "outputId": "abfa5eab-a681-4dad-83d6-18335c973d41"
      },
      "execution_count": 9,
      "outputs": [
        {
          "output_type": "execute_result",
          "data": {
            "text/plain": [
              "5819079"
            ]
          },
          "metadata": {},
          "execution_count": 9
        }
      ]
    }
  ]
}